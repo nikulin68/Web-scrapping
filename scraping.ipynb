{
 "cells": [
  {
   "cell_type": "code",
   "execution_count": 19,
   "metadata": {},
   "outputs": [
    {
     "name": "stdout",
     "output_type": "stream",
     "text": [
      "2022-04-16, 23:28 - Как написать калькулятор на HTML и CSS без JavaScript - https://habr.com/ru/company/skillfactory/blog/661343/\n",
      "2022-04-16, 22:47 - Настроить программный модем — поможет minimodem - https://habr.com/ru/company/audiomania/blog/661291/\n",
      "2022-04-16, 22:47 - Настроить программный модем — поможет minimodem - https://habr.com/ru/company/audiomania/blog/661291/\n",
      "2022-04-16, 19:16 - Как мы четыре года организовываем работу на удаленке с помощью Discord - https://habr.com/ru/post/661333/\n",
      "2022-04-16, 18:17 - Как задавать требования к качеству ПО в цифрах? - https://habr.com/ru/post/661331/\n",
      "2022-04-16, 16:33 - 8 проектов с открытым исходным кодом - https://habr.com/ru/post/661319/\n",
      "2022-04-16, 16:33 - 8 проектов с открытым исходным кодом - https://habr.com/ru/post/661319/\n",
      "2022-04-16, 13:00 - «Несостоявшиеся ВК»: национальные соцсети, проигравшие Facebook - https://habr.com/ru/company/ruvds/blog/661199/\n",
      "2022-04-16, 12:40 - Люди работают не так много, как вы думаете - https://habr.com/ru/company/mvideo/blog/661305/\n"
     ]
    }
   ],
   "source": [
    "\n",
    "\n",
    "     \n",
    "from bs4 import BeautifulSoup\n",
    "import requests\n",
    "\n",
    "KEYWORDS = {'дизайн', 'фото', 'web', 'python'}\n",
    "\n",
    "HEADERS = {\n",
    "    'Cookie': '_ym_uid=1639148487334283574; _ym_d=1639149414; _ga=GA1.2.528119004.1639149415; _gid=GA1.2.512914915.1639149415; habr_web_home=ARTICLES_LIST_ALL; hl=ru; fl=ru; _ym_isad=2; __gads=ID=87f529752d2e0de1-221b467103cd00b7:T=1639149409:S=ALNI_MYKvHcaV4SWfZmCb3_wXDx2olu6kw',\n",
    "    'Accept-Language': 'ru-RU,ru;q=0.9',\n",
    "    'Sec-Fetch-Dest': 'document',\n",
    "    'Sec-Fetch-Mode': 'navigate',\n",
    "    'Sec-Fetch-Site': 'same-origin',\n",
    "    'Sec-Fetch-User': '?1',\n",
    "    'Cache-Control': 'max-age=0',\n",
    "    'If-None-Match': 'W/\"37433-+qZyNZhUgblOQJvD5vdmtE4BN6w\"',\n",
    "    'User-Agent': 'Mozilla/5.0 (Windows NT 10.0; Win64; x64) AppleWebKit/537.36 (KHTML, like Gecko) Chrome/96.0.4664.93 Safari/537.36',\n",
    "    'sec-ch-ua-mobile': '?0'}\n",
    "\n",
    "url = 'https://habr.com'\n",
    "\n",
    "def habr_parser():\n",
    "    response = requests.get(url + '/ru/all/', headers=HEADERS)\n",
    "    response.raise_for_status()\n",
    "    text = response.text\n",
    "\n",
    "    soup = BeautifulSoup(text, features='html.parser')\n",
    "    articles = soup.find_all('article')\n",
    "\n",
    "    for article in articles:\n",
    "        date = article.find(class_='tm-article-snippet__datetime-published').find('time').attrs['title']\n",
    "        title = article.find('h2').find('span').text\n",
    "        href = article.find(class_='tm-article-snippet__title-link').attrs['href']\n",
    "        url_ = url + href\n",
    "\n",
    "        response_full = requests.get(url_, headers=HEADERS)\n",
    "        response_full.raise_for_status()\n",
    "        text_full = response_full.text\n",
    "        soup_full = BeautifulSoup(text_full, features='html.parser')\n",
    "        article_full = soup_full.find(class_='article-formatted-body').text\n",
    "\n",
    "        for keyword in KEYWORDS:\n",
    "            if keyword.lower() in article_full.lower() or keyword.lower() in title.lower():\n",
    "                print(f'{date} - {title} - {url_}')\n",
    "\n",
    "\n",
    "\n",
    "if __name__ == '__main__':\n",
    "    habr_parser()"
   ]
  }
 ],
 "metadata": {
  "interpreter": {
   "hash": "31f2aee4e71d21fbe5cf8b01ff0e069b9275f58929596ceb00d14d90e3e16cd6"
  },
  "kernelspec": {
   "display_name": "Python 3.8.9 64-bit",
   "language": "python",
   "name": "python3"
  },
  "language_info": {
   "codemirror_mode": {
    "name": "ipython",
    "version": 3
   },
   "file_extension": ".py",
   "mimetype": "text/x-python",
   "name": "python",
   "nbconvert_exporter": "python",
   "pygments_lexer": "ipython3",
   "version": "3.8.9"
  },
  "orig_nbformat": 4
 },
 "nbformat": 4,
 "nbformat_minor": 2
}
